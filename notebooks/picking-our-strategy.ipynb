{
 "cells": [
  {
   "cell_type": "code",
   "execution_count": 10,
   "outputs": [
    {
     "name": "stdout",
     "text": [
      "          Date Ticker   Adj Close Adj Close - Slope15    SMA15  \\\n",
      "498 2020-03-18   MSFT  140.399994            -2.83286  156.089   \n",
      "499 2020-03-19   MSFT  142.710007            -1.51214  155.057   \n",
      "500 2020-03-20   MSFT  137.350006            -1.15678  153.413   \n",
      "501 2020-03-23   MSFT  135.979996            -2.44821  150.959   \n",
      "502 2020-03-24   MSFT  148.339996            0.518928  149.881   \n",
      "\n",
      "    Adj Close - SMA15 SMA15 - Slope15 SMA15 - Slope 15 - 2nd Deriv 3  \\\n",
      "498          -15.6887        -2.03795                      0.0654826   \n",
      "499          -12.3473          -1.838                         0.1265   \n",
      "500          -16.0633        -1.65614                       0.190905   \n",
      "501          -14.9793        -1.71209                      0.0629525   \n",
      "502          -1.54134        -1.63498                      0.0105834   \n",
      "\n",
      "    Adj Close - EMA15  1 Day Close  15 Days SMA v Close  \n",
      "498           -14.294          NaN                  NaN  \n",
      "499           -10.486          NaN                  NaN  \n",
      "500          -13.8652          NaN                  NaN  \n",
      "501          -13.3308          NaN                  NaN  \n",
      "502         -0.849492          NaN                  NaN  \n"
     ],
     "output_type": "stream"
    }
   ],
   "source": [
    "# The following code backtests some possible \"returns\" when implementing a strategy using the actual future data to generate signals. We use the convention CrystalBallStrategy to remind us that these strategies are only possible if we had a crystal ball to tell the future. It is our goal to find one that proves to make money and that we can somewhat accurately predict.\n",
    "\n",
    "from copy import deepcopy\n",
    "\n",
    "from pyalgotrade.barfeed import yahoofeed\n",
    "from pyalgotrade.stratanalyzer import returns\n",
    "from src.features.build_features import BuildFeatures, CrystalBallStrategy\n",
    "\n",
    "# build our data feeds using MSFT data\n",
    "base_feed = yahoofeed.Feed()\n",
    "base_feed.addBarsFromCSV(\"MSFT\", './data/MSFT.csv')\n",
    "feed =  deepcopy(base_feed)\n",
    "\n",
    "# calculate the features and labels (we really only need labels)\n",
    "# we generate two labels that look for observed prices rises\n",
    "# \"1 Day Close\", and \"15 Days SMA v Close\"\n",
    "features = BuildFeatures(feed, \"MSFT\")\n",
    "\n",
    "# attach an analyser to help quantify returns\n",
    "ret_analyzer = returns.Returns()\n",
    "features.attachAnalyzer(ret_analyzer)\n",
    "\n",
    "features.run()\n",
    "y = features.labels"
   ],
   "metadata": {
    "collapsed": false,
    "pycharm": {
     "name": "#%%\n",
     "is_executing": false
    }
   }
  },
  {
   "cell_type": "code",
   "execution_count": 11,
   "outputs": [
    {
     "name": "stdout",
     "text": [
      "Final portfolio value: $1005773.00\n",
      "Cumulative returns: 0.58 %\n"
     ],
     "output_type": "stream"
    }
   ],
   "source": [
    "# As a default we can see what it would look like to have purchased 100 shares of the given ticker and held them. \n",
    "print(\"Final portfolio value: $%.2f\" % features.getResult())\n",
    "print(\"Cumulative returns: %.2f %%\" % (ret_analyzer.getCumulativeReturns()[-1] * 100))"
   ],
   "metadata": {
    "collapsed": false,
    "pycharm": {
     "name": "#%%\n",
     "is_executing": false
    }
   }
  },
  {
   "cell_type": "code",
   "execution_count": 12,
   "outputs": [
    {
     "name": "stdout",
     "text": [
      "Final portfolio value: $1019423.00\n",
      "Cumulative returns: 1.94 %\n"
     ],
     "output_type": "stream"
    }
   ],
   "source": [
    "# Now let's backtest a strategy with the training labels we created in BuildFeatures. The strategy is to BUY 100 shares if we predict the price will rise the following day and HOLD until we predict the market will go down the following day, when we SELL 100 shares and wait until we predict another rise.\n",
    "\n",
    "feed_copy =  deepcopy(base_feed)\n",
    "one_day_close = CrystalBallStrategy(feed_copy, \"MSFT\", y.loc[:, '1 Day Close'])\n",
    "ret_analyzer = returns.Returns()\n",
    "one_day_close.attachAnalyzer(ret_analyzer)\n",
    "\n",
    "# Evaluate the strategy with the feed's bars\n",
    "one_day_close.run()\n",
    "print(\"Final portfolio value: $%.2f\" % one_day_close.getResult())\n",
    "print(\"Cumulative returns: %.2f %%\" % (ret_analyzer.getCumulativeReturns()[-1] * 100))"
   ],
   "metadata": {
    "collapsed": false,
    "pycharm": {
     "name": "#%%\n",
     "is_executing": false
    }
   }
  },
  {
   "cell_type": "code",
   "execution_count": 13,
   "outputs": [
    {
     "name": "stdout",
     "text": [
      "Final portfolio value: $1016922.00\n",
      "Cumulative returns: 1.69 %\n"
     ],
     "output_type": "stream"
    }
   ],
   "source": [
    "# Backtest another strategy. This strategy is to to BUY 100 shares if we predict the 15-day SMA will be higher than the current stock price in 15 days, and HOLD until we predict the 15-day SMA will be lower than teh current stock price in 15 days, when we SELL 100 shares and wait until we predict another rise.\n",
    "\n",
    "feed_copy2 =  deepcopy(base_feed)\n",
    "fifteen_day_sma_v_close = CrystalBallStrategy(feed_copy2, \"MSFT\", y.loc[:, '15 Days SMA v Close'])\n",
    "ret_analyzer = returns.Returns()\n",
    "fifteen_day_sma_v_close.attachAnalyzer(ret_analyzer)\n",
    "\n",
    "# Evaluate the strategy with the feed's bars\n",
    "fifteen_day_sma_v_close.run()\n",
    "print(\"Final portfolio value: $%.2f\" % fifteen_day_sma_v_close.getResult())\n",
    "print(\"Cumulative returns: %.2f %%\" % (ret_analyzer.getCumulativeReturns()[-1] * 100))"
   ],
   "metadata": {
    "collapsed": false,
    "pycharm": {
     "name": "#%%\n",
     "is_executing": false
    }
   }
  }
 ],
 "metadata": {
  "kernelspec": {
   "display_name": "Python 3",
   "language": "python",
   "name": "python3"
  },
  "language_info": {
   "codemirror_mode": {
    "name": "ipython",
    "version": 2
   },
   "file_extension": ".py",
   "mimetype": "text/x-python",
   "name": "python",
   "nbconvert_exporter": "python",
   "pygments_lexer": "ipython2",
   "version": "2.7.6"
  },
  "pycharm": {
   "stem_cell": {
    "cell_type": "raw",
    "source": [],
    "metadata": {
     "collapsed": false
    }
   }
  }
 },
 "nbformat": 4,
 "nbformat_minor": 0
}