{
 "cells": [
  {
   "cell_type": "markdown",
   "metadata": {},
   "source": [
    "# Notebook to pull ticker bar data from Yahoo finance"
   ]
  },
  {
   "cell_type": "code",
   "execution_count": 2,
   "metadata": {},
   "outputs": [],
   "source": [
    "import requests\n",
    "import os\n",
    "import datetime\n",
    "import math"
   ]
  },
  {
   "cell_type": "code",
   "execution_count": 6,
   "metadata": {},
   "outputs": [
    {
     "output_type": "stream",
     "name": "stdout",
     "text": "https://query1.finance.yahoo.com/v7/finance/download/MSFT\ncalling: https://query1.finance.yahoo.com/v7/finance/download/MSFT?period1=1206849600&period2=1583038800&interval=1d&events=history\nhttps://query1.finance.yahoo.com/v7/finance/download/AAPL\ncalling: https://query1.finance.yahoo.com/v7/finance/download/AAPL?period1=1206849600&period2=1583038800&interval=1d&events=history\nhttps://query1.finance.yahoo.com/v7/finance/download/GOOG\ncalling: https://query1.finance.yahoo.com/v7/finance/download/GOOG?period1=1206849600&period2=1583038800&interval=1d&events=history\nhttps://query1.finance.yahoo.com/v7/finance/download/^GSPC\ncalling: https://query1.finance.yahoo.com/v7/finance/download/%5EGSPC?period1=1206849600&period2=1583038800&interval=1d&events=history\nhttps://query1.finance.yahoo.com/v7/finance/download/AMZN\ncalling: https://query1.finance.yahoo.com/v7/finance/download/AMZN?period1=1206849600&period2=1583038800&interval=1d&events=history\n"
    }
   ],
   "source": [
    "start = math.trunc(datetime.datetime(2008,3,30,0,0).timestamp())\n",
    "end = math.trunc(datetime.datetime(2020,3,1,0,0).timestamp())\n",
    "\n",
    "parms = { 'period1': start, 'period2':end, 'interval': '1d', 'events': 'history' }\n",
    "symbols = ['MSFT', 'AAPL', 'GOOG', '^GSPC', 'AMZN' ]\n",
    "base_url = 'https://query1.finance.yahoo.com/v7/finance/download/{}'\n",
    "\n",
    "data_path = './.data'\n",
    "\n",
    "os.makedirs(data_path, exist_ok=True)\n",
    "\n",
    "for s in symbols:\n",
    "    print(base_url.format(s))\n",
    "    r = requests.get(base_url.format(s), params=parms)\n",
    "    print('calling: {}'.format(r.url))\n",
    "    \n",
    "    filename = '{}/{}.csv'.format(data_path, s).replace('^', '_')\n",
    "    \n",
    "    with open(filename, 'wb') as fd:\n",
    "        for chunk in r.iter_content(chunk_size=128):\n",
    "            fd.write(chunk)\n",
    "\n",
    ""
   ]
  },
  {
   "cell_type": "code",
   "execution_count": null,
   "metadata": {},
   "outputs": [],
   "source": []
  }
 ],
 "metadata": {
  "kernelspec": {
   "display_name": "Python 3",
   "language": "python",
   "name": "python3"
  },
  "language_info": {
   "codemirror_mode": {
    "name": "ipython",
    "version": 3
   },
   "file_extension": ".py",
   "mimetype": "text/x-python",
   "name": "python",
   "nbconvert_exporter": "python",
   "pygments_lexer": "ipython3",
   "version": "3.7.4-final"
  }
 },
 "nbformat": 4,
 "nbformat_minor": 4
}