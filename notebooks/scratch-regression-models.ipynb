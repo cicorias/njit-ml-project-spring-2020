{
 "nbformat": 4,
 "nbformat_minor": 2,
 "metadata": {
  "language_info": {
   "name": "python",
   "codemirror_mode": {
    "name": "ipython",
    "version": 3
   },
   "version": "3.7.3-final"
  },
  "orig_nbformat": 2,
  "file_extension": ".py",
  "mimetype": "text/x-python",
  "name": "python",
  "npconvert_exporter": "python",
  "pygments_lexer": "ipython3",
  "version": 3,
  "kernelspec": {
   "name": "python3",
   "language": "python",
   "display_name": "Python 3"
  },
  "pycharm": {
   "stem_cell": {
    "cell_type": "raw",
    "source": [],
    "metadata": {
     "collapsed": false
    }
   }
  }
 },
 "cells": [
  {
   "cell_type": "code",
   "execution_count": 1,
   "metadata": {},
   "outputs": [],
   "source": [
    "# Testing Regression Models"
   ]
  },
  {
   "cell_type": "code",
   "execution_count": 20,
   "metadata": {
    "pycharm": {
     "is_executing": false
    }
   },
   "outputs": [],
   "source": [
    "import os\n",
    "import sys\n",
    "import pandas as pd\n",
    "import seaborn as sns\n",
    "import pandas as pd\n",
    "import ta\n",
    "from sklearn import svm\n",
    "import matplotlib.pyplot as plt\n",
    "from datetime import datetime\n",
    "\n",
    "nb_dir = os.path.split(os.getcwd())[0]\n",
    "if nb_dir not in sys.path:\n",
    "    sys.path.append(nb_dir)\n",
    "from src.visualization.visualize import DisplayTicker\n",
    "from src.features.build_features import BuildFeatures\n",
    ""
   ]
  },
  {
   "cell_type": "code",
   "execution_count": 28,
   "metadata": {
    "pycharm": {
     "is_executing": false
    }
   },
   "outputs": [],
   "source": [
    "def convert_data(ticker, open_close):\n",
    "    \"\"\"\n",
    "    convert Open/Close for prediction\n",
    "\n",
    "    \"\"\"\n",
    "    stock_type = \"Open\"\n",
    "    if open_close == 0:\n",
    "        stock_type = \"Close\"\n",
    "\n",
    "    ticker_copy = ticker.copy()\n",
    "    print(ticker_copy['Date'].iloc[-1])\n",
    "    ticker_copy['Date'] = ticker_copy['Date'].str.split('-').str[2]\n",
    "    ticker_copy['Date'] = pd.to_numeric(ticker_copy['Date'])\n",
    "    return [ticker_copy[\"Date\"].tolist(), ticker_copy[stock_type].tolist()]\n",
    ""
   ]
  },
  {
   "cell_type": "code",
   "execution_count": 37,
   "metadata": {},
   "outputs": [
    {
     "output_type": "stream",
     "name": "stdout",
     "text": "Date         2020-02-28 00:00:00\nOpen                      152.41\nHigh                      163.71\nLow                          152\nClose                     162.01\nAdj Close                 162.01\nVolume                  97073600\nDayOfYear                    059\nName: 3000, dtype: object\n"
    }
   ],
   "source": [
    "MSFT = pd.read_csv('./.data/MSFT.csv')\n",
    "\n",
    "# Add Date of Year to table\n",
    "MSFT['Date'] = pd.to_datetime(MSFT['Date'])\n",
    "MSFT['DayOfYear'] = MSFT['Date'].apply(lambda x: datetime.strftime(x,'%j'))\n",
    "print(MSFT.iloc[-1])"
   ]
  },
  {
   "cell_type": "code",
   "execution_count": 42,
   "metadata": {},
   "outputs": [
    {
     "output_type": "stream",
     "name": "stdout",
     "text": "059\n162.009995\n"
    }
   ],
   "source": [
    "def predict_next_day_price(dates, prices):\n",
    "    \n",
    "    \n",
    "    print(dates.iloc[-1])\n",
    "    print(prices.iloc[-1])\n",
    "predict_next_day_price(MSFT['DayOfYear'], MSFT['Close'])"
   ]
  },
  {
   "cell_type": "code",
   "execution_count": null,
   "metadata": {},
   "outputs": [],
   "source": []
  },
  {
   "cell_type": "code",
   "execution_count": 8,
   "metadata": {
    "pycharm": {
     "is_executing": false
    }
   },
   "outputs": [],
   "source": [
    "MSFT\n",
    "MSFT_A = DisplayTicker(MSFT, \"Microsoft\")\n",
    "#MSFT_A.graph_stock()"
   ]
  },
  {
   "cell_type": "code",
   "execution_count": 7,
   "metadata": {
    "pycharm": {
     "is_executing": false
    }
   },
   "outputs": [],
   "source": [
    "indicator_bb = ta.volatility.BollingerBands(close=MSFT[\"Close\"], n=20, ndev=2)\n",
    "indicator_SMA20 = ta.trend.SMAIndicator(close=MSFT[\"Close\"],n=20, fillna=True)\n",
    "MSFT['SMA_20'] = indicator_SMA20.sma_indicator()\n",
    "MSFT['bb_bbm'] = indicator_bb.bollinger_mavg()\n",
    "MSFT['bb_bbh'] = indicator_bb.bollinger_hband()\n",
    "MSFT['bb_bbl'] = indicator_bb.bollinger_lband()\n",
    "# Add Bollinger Band high indicator\n",
    "#MSFT['bb_bbhi'] = indicator_bb.bollinger_hband_indicator()\n",
    "\n",
    "# Add Bollinger Band low indicator\n",
    "#MSFT['bb_bbli'] = indicator_bb.bollinger_lband_indicator()"
   ]
  },
  {
   "cell_type": "code",
   "execution_count": 4,
   "metadata": {},
   "outputs": [
    {
     "output_type": "execute_result",
     "data": {
      "text/plain": "            Date        Open        High         Low       Close   Adj Close  \\\n0     2008-03-31   27.879999   28.590000   27.840000   28.379999   21.455233   \n1     2008-04-01   28.830000   29.540001   28.629999   29.500000   22.301943   \n2     2008-04-02   29.570000   29.580000   29.000000   29.160000   22.044899   \n3     2008-04-03   29.000000   29.320000   28.799999   29.000000   21.923944   \n4     2008-04-04   29.129999   29.260000   28.740000   29.160000   22.044899   \n...          ...         ...         ...         ...         ...         ...   \n2996  2020-02-24  167.770004  174.550003  163.229996  170.889999  170.889999   \n2997  2020-02-25  174.199997  174.839996  167.649994  168.070007  168.070007   \n2998  2020-02-26  169.710007  173.259995  168.210007  170.169998  170.169998   \n2999  2020-02-27  163.320007  167.029999  157.979996  158.179993  158.179993   \n3000  2020-02-28  152.410004  163.710007  152.000000  162.009995  162.009995   \n\n        Volume      SMA_20      bb_bbm      bb_bbh      bb_bbl  \n0     46780600   28.379999   28.379999   28.379999   28.379999  \n1     65796200   28.939999   28.939999   30.060001   27.819998  \n2     49499400   29.013333   29.013333   29.951038   28.075628  \n3     38961400   29.010000   29.010000   29.822158   28.197841  \n4     43860800   29.040000   29.040000   29.776261   28.303738  \n...        ...         ...         ...         ...         ...  \n2996  68311100  178.801500  178.801500  194.402686  163.200314  \n2997  68073300  179.091000  179.091000  193.634134  164.547866  \n2998  56206100  179.326500  179.326500  193.111890  165.541110  \n2999  93174900  178.833500  178.833500  194.740186  162.926813  \n3000  97073600  178.295000  178.295000  195.648381  160.941619  \n\n[3001 rows x 11 columns]",
      "text/html": "<div>\n<style scoped>\n    .dataframe tbody tr th:only-of-type {\n        vertical-align: middle;\n    }\n\n    .dataframe tbody tr th {\n        vertical-align: top;\n    }\n\n    .dataframe thead th {\n        text-align: right;\n    }\n</style>\n<table border=\"1\" class=\"dataframe\">\n  <thead>\n    <tr style=\"text-align: right;\">\n      <th></th>\n      <th>Date</th>\n      <th>Open</th>\n      <th>High</th>\n      <th>Low</th>\n      <th>Close</th>\n      <th>Adj Close</th>\n      <th>Volume</th>\n      <th>SMA_20</th>\n      <th>bb_bbm</th>\n      <th>bb_bbh</th>\n      <th>bb_bbl</th>\n    </tr>\n  </thead>\n  <tbody>\n    <tr>\n      <th>0</th>\n      <td>2008-03-31</td>\n      <td>27.879999</td>\n      <td>28.590000</td>\n      <td>27.840000</td>\n      <td>28.379999</td>\n      <td>21.455233</td>\n      <td>46780600</td>\n      <td>28.379999</td>\n      <td>28.379999</td>\n      <td>28.379999</td>\n      <td>28.379999</td>\n    </tr>\n    <tr>\n      <th>1</th>\n      <td>2008-04-01</td>\n      <td>28.830000</td>\n      <td>29.540001</td>\n      <td>28.629999</td>\n      <td>29.500000</td>\n      <td>22.301943</td>\n      <td>65796200</td>\n      <td>28.939999</td>\n      <td>28.939999</td>\n      <td>30.060001</td>\n      <td>27.819998</td>\n    </tr>\n    <tr>\n      <th>2</th>\n      <td>2008-04-02</td>\n      <td>29.570000</td>\n      <td>29.580000</td>\n      <td>29.000000</td>\n      <td>29.160000</td>\n      <td>22.044899</td>\n      <td>49499400</td>\n      <td>29.013333</td>\n      <td>29.013333</td>\n      <td>29.951038</td>\n      <td>28.075628</td>\n    </tr>\n    <tr>\n      <th>3</th>\n      <td>2008-04-03</td>\n      <td>29.000000</td>\n      <td>29.320000</td>\n      <td>28.799999</td>\n      <td>29.000000</td>\n      <td>21.923944</td>\n      <td>38961400</td>\n      <td>29.010000</td>\n      <td>29.010000</td>\n      <td>29.822158</td>\n      <td>28.197841</td>\n    </tr>\n    <tr>\n      <th>4</th>\n      <td>2008-04-04</td>\n      <td>29.129999</td>\n      <td>29.260000</td>\n      <td>28.740000</td>\n      <td>29.160000</td>\n      <td>22.044899</td>\n      <td>43860800</td>\n      <td>29.040000</td>\n      <td>29.040000</td>\n      <td>29.776261</td>\n      <td>28.303738</td>\n    </tr>\n    <tr>\n      <th>...</th>\n      <td>...</td>\n      <td>...</td>\n      <td>...</td>\n      <td>...</td>\n      <td>...</td>\n      <td>...</td>\n      <td>...</td>\n      <td>...</td>\n      <td>...</td>\n      <td>...</td>\n      <td>...</td>\n    </tr>\n    <tr>\n      <th>2996</th>\n      <td>2020-02-24</td>\n      <td>167.770004</td>\n      <td>174.550003</td>\n      <td>163.229996</td>\n      <td>170.889999</td>\n      <td>170.889999</td>\n      <td>68311100</td>\n      <td>178.801500</td>\n      <td>178.801500</td>\n      <td>194.402686</td>\n      <td>163.200314</td>\n    </tr>\n    <tr>\n      <th>2997</th>\n      <td>2020-02-25</td>\n      <td>174.199997</td>\n      <td>174.839996</td>\n      <td>167.649994</td>\n      <td>168.070007</td>\n      <td>168.070007</td>\n      <td>68073300</td>\n      <td>179.091000</td>\n      <td>179.091000</td>\n      <td>193.634134</td>\n      <td>164.547866</td>\n    </tr>\n    <tr>\n      <th>2998</th>\n      <td>2020-02-26</td>\n      <td>169.710007</td>\n      <td>173.259995</td>\n      <td>168.210007</td>\n      <td>170.169998</td>\n      <td>170.169998</td>\n      <td>56206100</td>\n      <td>179.326500</td>\n      <td>179.326500</td>\n      <td>193.111890</td>\n      <td>165.541110</td>\n    </tr>\n    <tr>\n      <th>2999</th>\n      <td>2020-02-27</td>\n      <td>163.320007</td>\n      <td>167.029999</td>\n      <td>157.979996</td>\n      <td>158.179993</td>\n      <td>158.179993</td>\n      <td>93174900</td>\n      <td>178.833500</td>\n      <td>178.833500</td>\n      <td>194.740186</td>\n      <td>162.926813</td>\n    </tr>\n    <tr>\n      <th>3000</th>\n      <td>2020-02-28</td>\n      <td>152.410004</td>\n      <td>163.710007</td>\n      <td>152.000000</td>\n      <td>162.009995</td>\n      <td>162.009995</td>\n      <td>97073600</td>\n      <td>178.295000</td>\n      <td>178.295000</td>\n      <td>195.648381</td>\n      <td>160.941619</td>\n    </tr>\n  </tbody>\n</table>\n<p>3001 rows × 11 columns</p>\n</div>"
     },
     "metadata": {},
     "execution_count": 4
    }
   ],
   "source": [
    "MSFT\n",
    ""
   ]
  },
  {
   "cell_type": "code",
   "execution_count": null,
   "metadata": {},
   "outputs": [],
   "source": []
  }
 ]
}