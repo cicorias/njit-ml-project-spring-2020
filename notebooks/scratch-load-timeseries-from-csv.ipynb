{
 "cells": [
  {
   "cell_type": "code",
   "execution_count": 1,
   "metadata": {
    "collapsed": true,
    "pycharm": {
     "is_executing": false
    }
   },
   "outputs": [
    {
     "data": {
      "text/plain": "         Date        Open        High         Low       Close   Adj Close  \\\n0  2019-03-25  116.559998  118.010002  116.320000  117.660004  116.123627   \n1  2019-03-26  118.620003  118.709999  116.849998  117.910004  116.370346   \n2  2019-03-27  117.879997  118.209999  115.519997  116.769997  115.245224   \n3  2019-03-28  117.440002  117.580002  116.129997  116.930000  115.403145   \n4  2019-03-29  118.070000  118.320000  116.959999  117.940002  116.399963   \n\n     Volume  \n0  27067100  \n1  26097700  \n2  22733400  \n3  18334800  \n4  25399800  ",
      "text/html": "<div>\n<style scoped>\n    .dataframe tbody tr th:only-of-type {\n        vertical-align: middle;\n    }\n\n    .dataframe tbody tr th {\n        vertical-align: top;\n    }\n\n    .dataframe thead th {\n        text-align: right;\n    }\n</style>\n<table border=\"1\" class=\"dataframe\">\n  <thead>\n    <tr style=\"text-align: right;\">\n      <th></th>\n      <th>Date</th>\n      <th>Open</th>\n      <th>High</th>\n      <th>Low</th>\n      <th>Close</th>\n      <th>Adj Close</th>\n      <th>Volume</th>\n    </tr>\n  </thead>\n  <tbody>\n    <tr>\n      <th>0</th>\n      <td>2019-03-25</td>\n      <td>116.559998</td>\n      <td>118.010002</td>\n      <td>116.320000</td>\n      <td>117.660004</td>\n      <td>116.123627</td>\n      <td>27067100</td>\n    </tr>\n    <tr>\n      <th>1</th>\n      <td>2019-03-26</td>\n      <td>118.620003</td>\n      <td>118.709999</td>\n      <td>116.849998</td>\n      <td>117.910004</td>\n      <td>116.370346</td>\n      <td>26097700</td>\n    </tr>\n    <tr>\n      <th>2</th>\n      <td>2019-03-27</td>\n      <td>117.879997</td>\n      <td>118.209999</td>\n      <td>115.519997</td>\n      <td>116.769997</td>\n      <td>115.245224</td>\n      <td>22733400</td>\n    </tr>\n    <tr>\n      <th>3</th>\n      <td>2019-03-28</td>\n      <td>117.440002</td>\n      <td>117.580002</td>\n      <td>116.129997</td>\n      <td>116.930000</td>\n      <td>115.403145</td>\n      <td>18334800</td>\n    </tr>\n    <tr>\n      <th>4</th>\n      <td>2019-03-29</td>\n      <td>118.070000</td>\n      <td>118.320000</td>\n      <td>116.959999</td>\n      <td>117.940002</td>\n      <td>116.399963</td>\n      <td>25399800</td>\n    </tr>\n  </tbody>\n</table>\n</div>"
     },
     "metadata": {},
     "output_type": "execute_result",
     "execution_count": 1
    }
   ],
   "source": [
    "import pandas as pd\n",
    "\n",
    "msft = pd.read_csv('./data/MSFT.csv')\n",
    "msft.head()"
   ]
  },
  {
   "cell_type": "code",
   "execution_count": 2,
   "outputs": [
    {
     "name": "stdout",
     "text": [
      "          Date       Close      SMA_15\n",
      "498 2020-03-18  140.399994  156.088666\n",
      "499 2020-03-19  142.710007  155.057333\n",
      "500 2020-03-20  137.350006  153.413334\n",
      "501 2020-03-23  135.979996  150.959334\n",
      "502 2020-03-24  148.339996  149.881334\n"
     ],
     "output_type": "stream"
    }
   ],
   "source": [
    "import pandas as pd\n",
    "from pyalgotrade import strategy\n",
    "from pyalgotrade.barfeed import yahoofeed\n",
    "from pyalgotrade.technical import ma, rsi, cross\n",
    "\n",
    "\n",
    "class BuildFeatures(strategy.BacktestingStrategy):\n",
    "    def __init__(self, feed, instrument):\n",
    "        strategy.BacktestingStrategy.__init__(self, feed)\n",
    "        self.__sma = ma.SMA(feed[instrument].getCloseDataSeries(), 15)\n",
    "        self.__instrument = instrument\n",
    "        self.cols = [\"Date\", \"Close\", \"SMA_15\"]\n",
    "        self.features = pd.DataFrame(columns=self.cols)\n",
    "\n",
    "    def onBars(self, bars):\n",
    "        bar = bars[self.__instrument]\n",
    "        # build up this list of signal features\n",
    "        # right now it's just appending metrics but we can write methods to convert to signals\n",
    "        technicals = pd.DataFrame([[\n",
    "                bar.getDateTime(), \n",
    "                bar.getClose(),\n",
    "                self.__sma[-1]\n",
    "              ]], \n",
    "            columns=self.cols)\n",
    "        self.features = self.features.append(technicals, ignore_index=True)\n",
    "    \n",
    "    def onFinish(self, bars):\n",
    "        # to use this as a features set \n",
    "        # return self.featuers\n",
    "        print(self.features.tail())\n",
    "        \n",
    "\n",
    "# Load the yahoo feed from the CSV file\n",
    "feed = yahoofeed.Feed()\n",
    "feed.addBarsFromCSV(\"MSFT\", \"./data/MSFT.csv\")\n",
    "\n",
    "# Evaluate the strategy with the feed's bars.\n",
    "features = BuildFeatures(feed, \"MSFT\")\n",
    "features.run()"
   ],
   "metadata": {
    "collapsed": false,
    "pycharm": {
     "name": "#%%\n",
     "is_executing": false
    }
   }
  }
 ],
 "metadata": {
  "kernelspec": {
   "display_name": "Python 3",
   "language": "python",
   "name": "python3"
  },
  "language_info": {
   "codemirror_mode": {
    "name": "ipython",
    "version": 2
   },
   "file_extension": ".py",
   "mimetype": "text/x-python",
   "name": "python",
   "nbconvert_exporter": "python",
   "pygments_lexer": "ipython2",
   "version": "2.7.6"
  },
  "pycharm": {
   "stem_cell": {
    "cell_type": "raw",
    "source": [],
    "metadata": {
     "collapsed": false
    }
   }
  }
 },
 "nbformat": 4,
 "nbformat_minor": 0
}